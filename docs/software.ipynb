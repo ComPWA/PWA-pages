{
 "cells": [
  {
   "cell_type": "code",
   "execution_count": null,
   "metadata": {
    "hideCode": true,
    "hideOutput": true,
    "hidePrompt": true,
    "jupyter": {
     "source_hidden": true
    },
    "slideshow": {
     "slide_type": "skip"
    },
    "tags": [
     "remove-cell"
    ]
   },
   "outputs": [],
   "source": [
    "%%capture\n",
    "%config Completer.use_jedi = False\n",
    "%config InlineBackend.figure_formats = ['svg']\n",
    "import os\n",
    "\n",
    "STATIC_WEB_PAGE = {\"EXECUTE_NB\", \"READTHEDOCS\"}.intersection(os.environ)"
   ]
  },
  {
   "cell_type": "markdown",
   "metadata": {},
   "source": [
    "# PWA Frameworks"
   ]
  },
  {
   "cell_type": "markdown",
   "metadata": {},
   "source": [
    "```{warning}\n",
    "These pages and are **under development**.\n",
    "```"
   ]
  },
  {
   "cell_type": "markdown",
   "metadata": {},
   "source": [
    "## Inventory of PWA projects"
   ]
  },
  {
   "cell_type": "markdown",
   "metadata": {},
   "source": [
    "Here is a list of software frameworks or projects for amplitude analysis:"
   ]
  },
  {
   "cell_type": "code",
   "execution_count": null,
   "metadata": {
    "jupyter": {
     "source_hidden": true
    },
    "tags": [
     "remove-input"
    ]
   },
   "outputs": [],
   "source": [
    "from typing import List\n",
    "\n",
    "import yaml\n",
    "from IPython.display import HTML\n",
    "from pytablewriter import HtmlTableWriter\n",
    "\n",
    "inventory_path = \"framework-inventory.yml\"\n",
    "with open(f\"./software/{inventory_path}\") as stream:\n",
    "    inventory = yaml.load(stream, Loader=yaml.SafeLoader)\n",
    "frameworks = inventory[\"pwa-frameworks\"]\n",
    "collaborations = inventory[\"collaborations\"]\n",
    "\n",
    "\n",
    "def format_project(entry: dict) -> str:\n",
    "    project = form_link(entry)\n",
    "    sub_project_list = entry.get(\"sub-projects\")\n",
    "    if sub_project_list is not None:\n",
    "        sub_project_list = list(map(form_link, sub_project_list))\n",
    "        sub_projects = form_html_list(sub_project_list)\n",
    "        project += sub_projects\n",
    "    return project\n",
    "\n",
    "\n",
    "def format_collaboration(entry: dict) -> str:\n",
    "    collaboration = entry.get(\"collaboration\", \"\")\n",
    "    if collaboration:\n",
    "        if isinstance(collaboration, str):\n",
    "            collaboration = [collaboration]\n",
    "        collaboration = \" / \".join(map(form_collaboration_link, collaboration))\n",
    "    return collaboration\n",
    "\n",
    "\n",
    "def format_language(entry: dict, language: str) -> str:\n",
    "    languages = entry.get(\"language\", [])\n",
    "    languages = set(map(lambda s: s.lower(), languages))\n",
    "    if language.lower() in languages:\n",
    "        return \"✓\"\n",
    "    return \"\"\n",
    "\n",
    "\n",
    "def form_collaboration_link(name: str) -> str:\n",
    "    collaboration_url = collaborations.get(name)\n",
    "    if collaboration_url is None:\n",
    "        raise KeyError(\n",
    "            f'Collaboration entry \"{name}\" not found in {inventory_path}'\n",
    "        )\n",
    "    return form_link(dict(name=name, url=collaboration_url))\n",
    "\n",
    "\n",
    "def form_html_list(entry: List[str]) -> str:\n",
    "    if not entry:\n",
    "        return \"\"\n",
    "    if len(entry) == 1:\n",
    "        return entry[0]\n",
    "    html = \"<li>\".join(entry)\n",
    "    html = \"<li>\" + html\n",
    "    return html\n",
    "\n",
    "\n",
    "def form_link(entry: dict) -> str:\n",
    "    name = entry[\"name\"]\n",
    "    url = entry[\"url\"]\n",
    "    return f'<a href=\"{url}\">{name}</a>'\n",
    "\n",
    "\n",
    "writer = HtmlTableWriter(\n",
    "    headers=[\"Project\", \"Collaboration\", \"C++\", \"Python\"],\n",
    "    value_matrix=[\n",
    "        (\n",
    "            format_project(entry),\n",
    "            format_collaboration(entry),\n",
    "            format_language(entry, \"C++\"),\n",
    "            format_language(entry, \"Python\"),\n",
    "        )\n",
    "        for entry in frameworks\n",
    "    ],\n",
    ")\n",
    "src = writer.dumps()\n",
    "left_align_style = 'style=\"text-align:left; vertical-align:top\"'\n",
    "center_align_style = 'style=\"text-align:center; vertical-align:top\"'\n",
    "src = src.replace(\n",
    "    '<td align=\"left\">✓</td>', f\"<td {center_align_style}>✓</td>\"\n",
    ")\n",
    "src = src.replace('align=\"left\"', left_align_style)\n",
    "src = src.replace(\"<th>\", f\"<th {left_align_style}>\")\n",
    "HTML(src)"
   ]
  },
  {
   "cell_type": "markdown",
   "metadata": {},
   "source": [
    "Please [let us know](https://github.com/ComPWA/PWA-pages/issues/new?title=Missing%20PWA%20package) if you have other recommendations!"
   ]
  },
  {
   "cell_type": "markdown",
   "metadata": {},
   "source": [
    "## Software development"
   ]
  },
  {
   "cell_type": "markdown",
   "metadata": {},
   "source": [
    ":::{tip}\n",
    "\n",
    "Have a look at [scikit-hep.org/developer](https://scikit-hep.org/developer) and [Towards a HEP Software Training curriculum](https://hepsoftwarefoundation.org/training/curriculum.html)! For development instructions for the ComPWA organization, see [Help developing](https://compwa-org.readthedocs.io/en/stable/develop.html).\n",
    "\n",
    ":::"
   ]
  },
  {
   "cell_type": "markdown",
   "metadata": {},
   "source": [
    "\n",
    "```{toctree}\n",
    "---\n",
    "hidden:\n",
    "---\n",
    "software/git\n",
    "```\n"
   ]
  }
 ],
 "metadata": {
  "kernelspec": {
   "display_name": "Python 3 (ipykernel)",
   "language": "python",
   "name": "python3"
  }
 },
 "nbformat": 4,
 "nbformat_minor": 4
}
