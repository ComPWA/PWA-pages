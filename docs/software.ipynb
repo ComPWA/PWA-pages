{
 "cells": [
  {
   "cell_type": "code",
   "execution_count": null,
   "metadata": {
    "hideCode": true,
    "hideOutput": true,
    "hidePrompt": true,
    "jupyter": {
     "source_hidden": true
    },
    "slideshow": {
     "slide_type": "skip"
    },
    "tags": [
     "remove-cell"
    ]
   },
   "outputs": [],
   "source": [
    "%%capture\n",
    "%config Completer.use_jedi = False\n",
    "%config InlineBackend.figure_formats = ['svg']\n",
    "import os\n",
    "\n",
    "STATIC_WEB_PAGE = {\"EXECUTE_NB\", \"READTHEDOCS\"}.intersection(os.environ)"
   ]
  },
  {
   "cell_type": "markdown",
   "metadata": {},
   "source": [
    "# PWA Frameworks"
   ]
  },
  {
   "cell_type": "markdown",
   "metadata": {},
   "source": [
    "```{warning}\n",
    "These pages and are **under development**.\n",
    "```"
   ]
  },
  {
   "cell_type": "markdown",
   "metadata": {},
   "source": [
    "## Inventory of PWA projects"
   ]
  },
  {
   "cell_type": "markdown",
   "metadata": {},
   "source": [
    "Here is a list of software frameworks or projects for amplitude analysis:\n",
    "\n",
    "<!-- cspell:ignore amplitf gpupwa rootpwa -->\n",
    "\n",
    "- [AmpGen](https://github.com/GooFit/AmpGen/blob/master/README.md)\n",
    "- [AmpTools](https://github.com/mashephe/AmpTools)\n",
    "- [ComPWA project](https://compwa-org.readthedocs.io/en/stable/about.html):\n",
    "  - [QRules](https://qrules.readthedocs.io)\n",
    "  - [AmpForm](https://ampform.readthedocs.io)\n",
    "  - [TensorWaves](https://tensorwaves.readthedocs.io)\n",
    "- [GPUPWA](https://sourceforge.net/projects/gpupwa) ([BESIII](http://bes3.ihep.ac.cn))\n",
    "- [Laura++](https://doi.org/10.1016/j.cpc.2018.04.017) ([LHCb](https://lhcb.web.cern.ch))\n",
    "- [Pawian](https://panda-wiki.gsi.de/foswiki/bin/view/PWA/PawianPwaSoftware) ([RUB](https://www.ruhr-uni-bochum.de/) for [PANDA](https://panda.gsi.de) / [BESIII](http://bes3.ihep.ac.cn))\n",
    "- [PyPWA](https://pypwa.jlab.org) ([JLab](https://www.jlab.org))\n",
    "- [ROOTPWA](https://github.com/ROOTPWA-Maintainers/ROOTPWA) ([COMPASS](https://home.cern/science/experiments/compass))\n",
    "- [TensorFlowAnalysis](https://gitlab.cern.ch/poluekt/TensorFlowAnalysis) ([LHCb](https://lhcb.web.cern.ch))\n",
    "  - [AmpliTF](https://github.com/apoluekt/AmpliTF)\n",
    "  - [TFA2](https://github.com/apoluekt/TFA2)\n",
    "- [TF-PWA](https://tf-pwa.rtfd.io) ([BESIII](http://bes3.ihep.ac.cn) / [LHCb](https://lhcb.web.cern.ch))\n",
    "\n",
    "Please [let us know](https://github.com/ComPWA/PWA-pages/issues/new?title=Missing%20PWA%20package) if you have other recommendations!"
   ]
  },
  {
   "cell_type": "markdown",
   "metadata": {},
   "source": [
    "## Software development"
   ]
  },
  {
   "cell_type": "markdown",
   "metadata": {},
   "source": [
    ":::{tip}\n",
    "\n",
    "Have a look at [scikit-hep.org/developer](https://scikit-hep.org/developer) and [Towards a HEP Software Training curriculum](https://hepsoftwarefoundation.org/training/curriculum.html)! For development instructions for the ComPWA organization, see [Help developing](https://compwa-org.readthedocs.io/en/stable/develop.html).\n",
    "\n",
    ":::"
   ]
  },
  {
   "cell_type": "markdown",
   "metadata": {},
   "source": [
    "\n",
    "```{toctree}\n",
    "---\n",
    "hidden:\n",
    "---\n",
    "software/git\n",
    "```\n"
   ]
  }
 ],
 "metadata": {
  "kernelspec": {
   "display_name": "Python 3 (ipykernel)",
   "language": "python",
   "name": "python3"
  },
  "language_info": {
   "codemirror_mode": {
    "name": "ipython",
    "version": 3
   },
   "file_extension": ".py",
   "mimetype": "text/x-python",
   "name": "python",
   "nbconvert_exporter": "python",
   "pygments_lexer": "ipython3",
   "version": "3.8.11"
  }
 },
 "nbformat": 4,
 "nbformat_minor": 4
}
