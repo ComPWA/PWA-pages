{
 "cells": [
  {
   "cell_type": "code",
   "execution_count": null,
   "metadata": {
    "hideCode": true,
    "hideOutput": true,
    "hidePrompt": true,
    "jupyter": {
     "source_hidden": true
    },
    "slideshow": {
     "slide_type": "skip"
    },
    "tags": [
     "remove-cell"
    ]
   },
   "outputs": [],
   "source": [
    "%%capture\n",
    "%config Completer.use_jedi = False\n",
    "%config InlineBackend.figure_formats = ['svg']\n",
    "import os\n",
    "\n",
    "STATIC_WEB_PAGE = {\"EXECUTE_NB\", \"READTHEDOCS\"}.intersection(os.environ)"
   ]
  },
  {
   "cell_type": "markdown",
   "metadata": {},
   "source": [
    "# Dynamics"
   ]
  },
  {
   "cell_type": "markdown",
   "metadata": {},
   "source": [
    "```{warning}\n",
    "These pages are **under development**.\n",
    "```"
   ]
  },
  {
   "cell_type": "markdown",
   "metadata": {},
   "source": [
    "## K-matrix"
   ]
  },
  {
   "cell_type": "markdown",
   "metadata": {},
   "source": [
    "Since {term}`scattering operator` ($S$-matrix) formulates the transition amplitude from initial state $\\left|i\\right>$ to final state $\\left|f\\right>$ through $\\left<i\\right|S\\left|f\\right>$, it is a **unitary** operator—probability is conserved, meaning $SS^* = I$. Now, {ref}`having defined the transition operator <introduction:Transition amplitude>` through $S = I + iT$, we can introduce another operator: $K^{-1} = T^{-1} + iI$ {cite}`chungPartialWaveAnalysis1995`. \n",
    "  \n"
   ]
  },
  {
   "cell_type": "markdown",
   "metadata": {},
   "source": [
    "```{todo}\n",
    "Explain why this new matrix interesting\n",
    "```"
   ]
  },
  {
   "cell_type": "markdown",
   "metadata": {},
   "source": [
    "```{todo}\n",
    "Definition in terms of $T$-matrix\n",
    "```"
   ]
  },
  {
   "cell_type": "markdown",
   "metadata": {},
   "source": [
    "## Special cases of the K-matrix"
   ]
  },
  {
   "cell_type": "markdown",
   "metadata": {},
   "source": [
    "### Breit-Wigner"
   ]
  },
  {
   "cell_type": "markdown",
   "metadata": {},
   "source": [
    "```{todo}\n",
    "Derive from $K$-matrix instead/as well.\n",
    "```"
   ]
  },
  {
   "cell_type": "markdown",
   "metadata": {},
   "source": [
    "A quantum mechanical state at rest with energy $E_0$ can be described in terms of the wave function:\n",
    "\n",
    "$$\n",
    "\\psi(t) = \\psi_0 e^{-iE_0t}\n",
    "$$\n",
    "\n",
    "Now, if we assume that the state has a decay width of $\\Gamma$, the probability density $\\psi^*\\psi$ of this state can be described as:\n",
    "\n",
    "$$\n",
    "\\psi^*\\psi = \\psi_0^*\\psi_0 e^{-\\Gamma t}.\n",
    "$$\n",
    "\n",
    "The wave function itself then becomes:\n",
    "\n",
    "$$\n",
    "\\psi(t) = \\psi_0 e^{-iE_0t} e^{-\\frac{\\Gamma}{2} t} = \\psi_0 e^{-i \\left(E_0-\\tfrac{i}{2}\\Gamma\\right) t}.\n",
    "$$\n",
    "\n",
    "A particle with a finite decay width can therefore be described as a particle with **complex energy**:\n",
    "\n",
    "$$\n",
    "E' = E_0 - \\frac{i}{2}\\Gamma\n",
    "$$\n",
    "\n",
    "Now, as an experimental physicist, one is interested in predicting the probability of observing the particle at energy $E$ (we want to describe the observed invariant mass distributions). This can be achieved by applying a [Fourier transform](https://en.wikipedia.org/wiki/Fourier_transform), so that $\\psi$ is described in terms of energy $E$ (or frequency $\\omega$) instead of time $t$:\n",
    "\n",
    "$$\n",
    "\\psi(E)\n",
    "\\propto \\psi_0 \\int_0^\\infty e^{i\\left(E-E_0+\\tfrac{i}{2}\\Gamma\\right)t}\\,\\mathrm{d}t\n",
    "\\propto \\frac{1}{\\left(E-E_0\\right) - \\tfrac{i}{2}\\Gamma}\n",
    "$$\n",
    "\n",
    "The probability to observe the particle at energy $E$ is therefore:\n",
    "\n",
    "$$\n",
    "\\psi^*(E)\\psi(E) \\propto\n",
    "\\frac{\\frac{\\Gamma^2}{4}}{\\left(E-E_0\\right)^2 + \\frac{\\Gamma^2}{4}}\n",
    "$$"
   ]
  },
  {
   "cell_type": "markdown",
   "metadata": {},
   "source": [
    "```{todo}\n",
    "Describe relation between $\\psi(E)$ and transition amplitude $M$\n",
    "```"
   ]
  },
  {
   "cell_type": "markdown",
   "metadata": {},
   "source": [
    "From this, one can see that the transition amplitude $M$ is described by:"
   ]
  },
  {
   "cell_type": "markdown",
   "metadata": {},
   "source": [
    "$$\n",
    "M(E) \\propto\n",
    "\\frac{\\frac{\\Gamma}{2}}{\\left(E-E_0\\right) - i\\frac{\\Gamma}{2}}\n",
    "$$"
   ]
  },
  {
   "cell_type": "markdown",
   "metadata": {},
   "source": [
    "because $|\\psi|^2\\propto|M|$. This is called **non-relativistic Breit-Wigner parametrization**."
   ]
  },
  {
   "cell_type": "markdown",
   "metadata": {},
   "source": [
    "```{todo}\n",
    "Describe how the **relativistic Breit-Wigner formula**:\n",
    "\n",
    "$$\n",
    "M(E) \\propto \\frac{m_0\\Gamma}{m_0^2 - m_{ab}^2 - im_0\\Gamma}\n",
    "$$\n",
    "\n",
    "is derived and why this is important in case of $\\Gamma \\gg m_0$.\n",
    "```"
   ]
  },
  {
   "cell_type": "code",
   "execution_count": null,
   "metadata": {
    "tags": [
     "hide-input"
    ]
   },
   "outputs": [],
   "source": [
    "from sympy import symbols\n",
    "from sympy.plotting import plot\n",
    "\n",
    "x, Gamma, E0 = symbols(R\"x \\Gamma E_0\")\n",
    "gamma2_4 = Gamma**2 / 4\n",
    "breit_wigner = gamma2_4 / ((x - E0) ** 2 + gamma2_4)\n",
    "\n",
    "plot(\n",
    "    breit_wigner.subs({R\"\\Gamma\": 0.25, \"E_0\": 0.75}),\n",
    "    xlim=(0, 1.5),\n",
    "    title=\"Non-relativistic Breit-Wigner\",\n",
    "    xlabel=\"$E$ (A.U.)\",\n",
    ");"
   ]
  },
  {
   "cell_type": "markdown",
   "metadata": {},
   "source": [
    "## Flatté"
   ]
  },
  {
   "cell_type": "markdown",
   "metadata": {},
   "source": [
    "## The importance of Unitarity"
   ]
  },
  {
   "cell_type": "markdown",
   "metadata": {},
   "source": [
    "## Difference between resonances and bound states?"
   ]
  }
 ],
 "metadata": {
  "kernelspec": {
   "display_name": "Python 3",
   "language": "python",
   "name": "python3"
  }
 },
 "nbformat": 4,
 "nbformat_minor": 4
}
