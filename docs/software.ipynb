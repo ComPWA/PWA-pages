{
 "cells": [
  {
   "cell_type": "code",
   "execution_count": null,
   "metadata": {
    "hideCode": true,
    "hideOutput": true,
    "hidePrompt": true,
    "jupyter": {
     "source_hidden": true
    },
    "slideshow": {
     "slide_type": "skip"
    },
    "tags": [
     "remove-cell"
    ]
   },
   "outputs": [],
   "source": [
    "%%capture\n",
    "%config Completer.use_jedi = False\n",
    "%config InlineBackend.figure_formats = ['svg']\n",
    "import os\n",
    "\n",
    "STATIC_WEB_PAGE = {\"EXECUTE_NB\", \"READTHEDOCS\"}.intersection(os.environ)"
   ]
  },
  {
   "cell_type": "markdown",
   "metadata": {},
   "source": [
    "# PWA Frameworks"
   ]
  },
  {
   "cell_type": "markdown",
   "metadata": {},
   "source": [
    "```{warning}\n",
    "These pages and are **under development**.\n",
    "```"
   ]
  },
  {
   "cell_type": "markdown",
   "metadata": {},
   "source": [
    "## Inventory of PWA projects"
   ]
  },
  {
   "cell_type": "markdown",
   "metadata": {},
   "source": [
    "Here is a list of software frameworks or projects for amplitude analysis. Suggestions or fixes can easily be added through [this YAML file](https://github.com/ComPWA/PWA-pages/blob/main/docs/software/framework-inventory.yml) (click [here](https://github.com/ComPWA/PWA-pages/edit/main/docs/software/framework-inventory.yml) to edit)."
   ]
  },
  {
   "cell_type": "code",
   "execution_count": null,
   "metadata": {
    "jupyter": {
     "source_hidden": true
    },
    "tags": [
     "remove-input"
    ]
   },
   "outputs": [],
   "source": [
    "from IPython.display import HTML\n",
    "\n",
    "from pwa_pages.project_inventory import (\n",
    "    ProjectInventory,\n",
    "    fix_html_alignment,\n",
    "    load_yaml,\n",
    "    to_html_table,\n",
    ")\n",
    "\n",
    "inventory_dict = load_yaml(\"software/framework-inventory.yml\")\n",
    "html_src = to_html_table(\n",
    "    inventory=ProjectInventory(**inventory_dict),\n",
    "    selected_languages=[\n",
    "        \"C++\",\n",
    "        \"Python\",\n",
    "        \"Cuda\",\n",
    "    ],\n",
    "    fetch_languages=True,\n",
    ")\n",
    "html_src = fix_html_alignment(html_src)\n",
    "HTML(html_src)"
   ]
  },
  {
   "cell_type": "markdown",
   "metadata": {},
   "source": [
    "## Software development"
   ]
  },
  {
   "cell_type": "markdown",
   "metadata": {},
   "source": [
    ":::{tip}\n",
    "\n",
    "Have a look at [scikit-hep.org/developer](https://scikit-hep.org/developer) and [Towards a HEP Software Training curriculum](https://hepsoftwarefoundation.org/training/curriculum.html)! For development instructions for the ComPWA organization, see [Help developing](https://compwa-org.readthedocs.io/en/stable/develop.html).\n",
    "\n",
    ":::"
   ]
  }
 ],
 "metadata": {
  "kernelspec": {
   "display_name": "Python 3 (ipykernel)",
   "language": "python",
   "name": "python3"
  }
 },
 "nbformat": 4,
 "nbformat_minor": 4
}
