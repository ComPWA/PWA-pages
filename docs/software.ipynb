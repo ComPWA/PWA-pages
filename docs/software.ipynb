{
 "cells": [
  {
   "cell_type": "code",
   "execution_count": null,
   "metadata": {
    "hideCode": true,
    "hideOutput": true,
    "hidePrompt": true,
    "jupyter": {
     "source_hidden": true
    },
    "slideshow": {
     "slide_type": "skip"
    },
    "tags": [
     "remove-cell"
    ]
   },
   "outputs": [],
   "source": [
    "%config InlineBackend.figure_formats = ['svg']\n",
    "import os\n",
    "\n",
    "STATIC_WEB_PAGE = {\"EXECUTE_NB\", \"READTHEDOCS\"}.intersection(os.environ)"
   ]
  },
  {
   "cell_type": "markdown",
   "metadata": {},
   "source": [
    "```{autolink-concat}\n",
    "```"
   ]
  },
  {
   "cell_type": "markdown",
   "metadata": {},
   "source": [
    "# PWA Frameworks"
   ]
  },
  {
   "cell_type": "markdown",
   "metadata": {},
   "source": [
    "```{warning}\n",
    "These pages are **under development**.\n",
    "```"
   ]
  },
  {
   "cell_type": "markdown",
   "metadata": {},
   "source": [
    "## Software inventory"
   ]
  },
  {
   "cell_type": "markdown",
   "metadata": {},
   "source": [
    ":::{rubric} Amplitude analysis projects\n",
    "\n",
    ":::\n",
    "\n",
    "The following frameworks or projects are specifically designed to do amplitude analysis. The table is built from\n",
    "{{ '[this YAML file](https://github.com/{}/blob/{}/docs/software/amplitude-analysis-projects.yml)'.format(repo, branch) }}\n",
    "and can be updated\n",
    "{{ '[here](https://github.com/{}/edit/{}/docs/software/amplitude-analysis-projects.yml)'.format(repo, branch) }}."
   ]
  },
  {
   "cell_type": "code",
   "execution_count": null,
   "metadata": {
    "jupyter": {
     "source_hidden": true
    },
    "tags": [
     "remove-input"
    ]
   },
   "outputs": [],
   "source": [
    "from IPython.display import HTML\n",
    "\n",
    "from pwa_pages.project_inventory import (ProjectInventory, fix_html_alignment,\n",
    "                                         load_yaml, to_html_table)\n",
    "\n",
    "inventory_dict = load_yaml(\"software/amplitude-analysis-projects.yml\")\n",
    "html_src = to_html_table(\n",
    "    inventory=ProjectInventory(**inventory_dict),\n",
    "    selected_languages=[\n",
    "        \"C++\",\n",
    "        \"Python\",\n",
    "        \"Cuda\",\n",
    "    ],\n",
    "    fetch=True,\n",
    ")\n",
    "html_src = fix_html_alignment(html_src)\n",
    "HTML(html_src)"
   ]
  },
  {
   "cell_type": "markdown",
   "metadata": {},
   "source": [
    ":::{rubric} General fitter packages\n",
    "\n",
    ":::\n",
    "\n",
    "The following packages do not have functionality for amplitude building, but can do fits with high performance. The YAML database for this table can be updated {{ '[here](https://github.com/{}/edit/{}/docs/software/fitter-packages.yml)'.format(repo, branch) }}."
   ]
  },
  {
   "cell_type": "code",
   "execution_count": null,
   "metadata": {
    "jupyter": {
     "source_hidden": true
    },
    "tags": [
     "remove-input"
    ]
   },
   "outputs": [],
   "source": [
    "inventory_dict = load_yaml(\"software/fitter-packages.yml\")\n",
    "html_src = to_html_table(\n",
    "    inventory=ProjectInventory(**inventory_dict),\n",
    "    selected_languages=[\n",
    "        \"C++\",\n",
    "        \"Python\",\n",
    "        \"Cuda\",\n",
    "    ],\n",
    "    fetch=True,\n",
    "    hide_columns=[\"Collaboration\"],\n",
    ")\n",
    "html_src = fix_html_alignment(html_src)\n",
    "HTML(html_src)"
   ]
  },
  {
   "cell_type": "markdown",
   "metadata": {},
   "source": [
    "_Last update: {{ build_date }}_"
   ]
  },
  {
   "cell_type": "markdown",
   "metadata": {},
   "source": [
    "## Software development"
   ]
  },
  {
   "cell_type": "markdown",
   "metadata": {},
   "source": [
    ":::{tip}\n",
    "\n",
    "Have a look at [scikit-hep.org/developer](https://scikit-hep.org/developer) and [Towards a HEP Software Training curriculum](https://hepsoftwarefoundation.org/training/curriculum.html)! For development instructions for the ComPWA organization, see [Help developing](https://compwa-org.readthedocs.io/en/stable/develop.html).\n",
    "\n",
    ":::"
   ]
  }
 ],
 "metadata": {
  "kernelspec": {
   "display_name": "Python 3 (ipykernel)",
   "language": "python",
   "name": "python3"
  }
 },
 "nbformat": 4,
 "nbformat_minor": 4
}
