{
 "cells": [
  {
   "cell_type": "code",
   "execution_count": null,
   "metadata": {
    "hideCode": true,
    "hideOutput": true,
    "hidePrompt": true,
    "jupyter": {
     "source_hidden": true
    },
    "slideshow": {
     "slide_type": "skip"
    },
    "tags": [
     "remove-cell"
    ]
   },
   "outputs": [],
   "source": [
    "%%capture\n",
    "%config Completer.use_jedi = False\n",
    "%config InlineBackend.figure_formats = ['svg']\n",
    "import os\n",
    "\n",
    "STATIC_WEB_PAGE = {\"EXECUTE_NB\", \"READTHEDOCS\"}.intersection(os.environ)"
   ]
  },
  {
   "cell_type": "markdown",
   "metadata": {},
   "source": [
    "# Introduction"
   ]
  },
  {
   "cell_type": "markdown",
   "metadata": {},
   "source": [
    "```{warning}\n",
    "These pages and are **under development**.\n",
    "```"
   ]
  },
  {
   "cell_type": "markdown",
   "metadata": {},
   "source": [
    "While the {term}`Standard Model` provides an incredibly accurate description of the most fundamental constituents of matter, it remains difficult to describe interactions at the level of bound states ({term}`hadrons <hadron>`). This is because the fundamental force that dominates at this range―the {term}`strong force`―is characterized by an {term}`asymptotic freedom`: it has a strong coupling constant at low momentum transfer.\n",
    "\n",
    "One the one hand, this asymptotic behavior of the strong force forces {term}`quarks <quark>` to bound together in colorless groups ({term}`color confinement`), giving particle physicists an amazingly varied spectrum of quark combinations to study. On the other, the asymptotic running of the coupling constant makes it almost impossible to predict from first principles how bound states of quarks interact at lower energies.\n",
    "\n",
    "Theoreticians have developed several descriptive models and numerical tools ({term}`lattice QCD` most importantly), but these models often rest on several assumptions or fail to describe larger systems. It therefore remains important to study particle interactions at the lower energies.\n",
    "\n",
    "Partial Wave Analysis is a collection of techniques that allows us to perform these studies."
   ]
  },
  {
   "cell_type": "markdown",
   "metadata": {},
   "source": [
    ":::{todo}\n",
    "\n",
    "- Importance of decomposing interactions\n",
    "- Strong QCD coupling constant at low momentum transfer\n",
    "- Cannot compute intermediate states from theory\n",
    "- Need to collect properties: mass, width, spin, parity\n",
    "\n",
    ":::"
   ]
  },
  {
   "cell_type": "markdown",
   "metadata": {},
   "source": [
    "## Scattering theory"
   ]
  },
  {
   "cell_type": "markdown",
   "metadata": {},
   "source": [
    "### Transition amplitude"
   ]
  },
  {
   "cell_type": "markdown",
   "metadata": {},
   "source": [
    ":::{todo}\n",
    "\n",
    "- Amplitudes and intensities\n",
    "- Scattering operator $S$ ({term}`S-matrix`)\n",
    "- Lead-up to $T$-matrix ({term}`transition operator`)\n",
    "- Distinction dynamical part and angular part\n",
    "\n",
    ":::"
   ]
  },
  {
   "cell_type": "markdown",
   "metadata": {},
   "source": [
    "<!-- In general one is interested in gaining knowledge about the interaction of particles. Therefore, particle reaction experiments are performed to validate theoretical models and extract physical quantities and  information (based on those models). To validate and extract information a comparison of the data from the experiment and the theoretical model is needed.\n",
    "\n",
    "The probability amplitude {cite}`weinbergQuantumTheoryFields1995`, p.113 of an initial state $\\Psi_i$ going to a final state $\\Psi_f$ is:\n",
    "\n",
    "$$\n",
    "S_{fi} = \\left< \\Psi_f \\middle| S \\middle| \\Psi_i \\right> = -2\\pi i \\delta^4(p_i - p_f)M_{fi}.\n",
    "$$\n",
    "\n",
    "This is a general formula, so the particle content of the initial and final state is arbitrary.\n",
    "\n",
    "Experimental physicists measure transition rates or cross sections instead of the transition probability. There are two special cases of initial states, since many experimental measurements fall under these two categories:\n",
    "\n",
    "1. Single particles in the initial state ($N_I=1$)\n",
    "\n",
    "   This is a single particle decaying into the final state particles. Here the decay rate {cite}`weinbergQuantumTheoryFields1995`, p.136 is\n",
    "\n",
    "   $$\n",
    "   d\\Gamma(i \\rightarrow f) = 2\\pi |M_{fi}|^2 \\delta^4(p_f - p_i) d\\Phi_f\n",
    "   $$\n",
    "\n",
    "   with $d\\Phi_f$ is the phase space element of the final state, which is needed to make a comparison with data. More on this below.\n",
    "\n",
    "2. Two particles in the initial state ($N_I=2$)\n",
    "\n",
    "   The cross section of a two particle scattering/production process {cite}`weinbergQuantumTheoryFields1995`, p.137 is\n",
    "\n",
    "   $$\n",
    "   d\\sigma(i \\rightarrow f) = (2\\pi)^4 u*i^{-1} |M*{fi}|^2 \\delta^4(p_f - p_i) d\\Phi_f\n",
    "   $$\n",
    "   \n",
    "   with $u_i^{-1}$ the relative velocity of the initial state particles.\n",
    "\n",
    "Describing multi body problems (more than 2) is a difficult task, since the interaction of more than two particles is difficult to describe {cite}`weinbergQuantumTheoryFields1995`, ch.4.\n",
    "\n",
    "One can resort to a simplification to treat a many body interaction by successive two body interactions. For N body particle decays (N > 2) this is known as the isobar model. Here a particle into N final state particles is modelled by a sequence of two particle decays. This is also also a assumption of the helicity/canonical formalism. -->"
   ]
  },
  {
   "cell_type": "markdown",
   "metadata": {},
   "source": [
    "### Partial waves"
   ]
  },
  {
   "cell_type": "markdown",
   "metadata": {},
   "source": [
    ":::{todo}\n",
    ":class: dropdown\n",
    "\n",
    "Decomposition into partial waves {cite}`petersPrimerPartialWave2004`, p.3:\n",
    "\n",
    "> Consider an incident wave $\\left|i\\right> = Psi_i$. In an experimental\n",
    "> setting, we can assume a vanishing potential at $t\\rightarrow\\infty$, which\n",
    "> allows us to expand the incoming wave in terms of\n",
    "> {wiki}`Legendre_polynomials` $P_l$, with $l$ the\n",
    "> {dfn}`angular orbital momentum`:\n",
    ">\n",
    "> ```{math}\n",
    ">\n",
    "> \\Psi_i(r,\\theta) = \\sum_{l=0}^\\infty U_l(r) P_l(\\theta)\n",
    ">\n",
    "> ```\n",
    ">\n",
    "> The $U_l$ factor can be parametrized further. At this stage, it is important\n",
    "> to point that the angular orbital momentum of the incoming state is used to\n",
    "> characterize specific systems. Here, it is common to use the labels used for\n",
    "> [electron orbitals](https://scienceworld.wolfram.com/physics/ElectronOrbital.html):\n",
    ">\n",
    "> | $l$ | Label | Origin                 |\n",
    "> | --- | ----- | ---------------------- |\n",
    "> | 0   | s     | \"sharp\"                |\n",
    "> | 1   | p     | \"principal\"            |\n",
    "> | 2   | d     | \"diffuse\"              |\n",
    "> | 3   | f     | \"fundamental\"          |\n",
    "> | 4   | g     | _rest is alphabetical_ |\n",
    "> | ... | ...   | ...                    |\n",
    ">\n",
    "> In PWA, it is therefore common to distinguish these wave contributions as\n",
    "> $S$-wave, $P$-wave, etc.\n",
    "\n",
    ":::"
   ]
  },
  {
   "cell_type": "markdown",
   "metadata": {},
   "source": [
    ":::{todo}\n",
    "\n",
    "- Separating out angular and radial wave functions using Legendre polynomials\n",
    "- What we can see from this and how it relates to analysis techniques\n",
    "- (?) Difference with amplitude analysis\n",
    "- Possible initial states: 1, 2, and multi-body\n",
    "- Suitable for propagation, not re-scattering\n",
    "\n",
    ":::"
   ]
  },
  {
   "cell_type": "markdown",
   "metadata": {},
   "source": [
    "## Isobar model"
   ]
  },
  {
   "cell_type": "markdown",
   "metadata": {},
   "source": [
    "(mandelstam-variables)=\n",
    "\n",
    "### Mandelstam variables"
   ]
  },
  {
   "cell_type": "code",
   "execution_count": null,
   "metadata": {
    "jupyter": {
     "source_hidden": true
    },
    "tags": [
     "hide-input"
    ]
   },
   "outputs": [],
   "source": [
    "import matplotlib.pyplot as plt\n",
    "from feynman import Diagram\n",
    "\n",
    "fig, ax = plt.subplots(1, 3, figsize=(9, 3), frameon=False, tight_layout=True)\n",
    "fig.patch.set_visible(False)\n",
    "for a in ax:\n",
    "    a.axis(\"off\")\n",
    "    a.set_xlim(0, 1)\n",
    "    a.set_ylim(0, 0.8)\n",
    "\n",
    "s_channel = Diagram(ax[0])\n",
    "# Vertices\n",
    "v_p1 = s_channel.vertex(xy=(0.1, 0.7), marker=\"\")\n",
    "v_p2 = s_channel.vertex(v_p1.xy, dy=-0.6, marker=\"\")\n",
    "v_p3 = s_channel.vertex(v_p1.xy, dx=0.8, marker=\"\")\n",
    "v_p4 = s_channel.vertex(v_p3.xy, dy=-0.6, marker=\"\")\n",
    "v1 = s_channel.vertex(v_p1.xy, dx=0.2, dy=-0.3, marker=\"\")\n",
    "v2 = s_channel.vertex(v_p3.xy, dx=-0.2, dy=-0.3, marker=\"\")\n",
    "# Lines\n",
    "p1 = s_channel.line(v_p1, v1, arrow=False)\n",
    "p2 = s_channel.line(v1, v_p2, arrow=False)\n",
    "interaction = s_channel.line(v1, v2, style=\"dotted\", arrow=False)\n",
    "e4 = s_channel.line(v2, v_p3, arrow=False)\n",
    "e5 = s_channel.line(v_p4, v2, arrow=False)\n",
    "# Labels\n",
    "v_p1.text(\"$p_1$\", x=-0.06, y=0)\n",
    "v_p2.text(\"$p_2$\", x=-0.06, y=0)\n",
    "v_p3.text(\"$p_3$\", x=+0.06, y=0)\n",
    "v_p4.text(\"$p_4$\", x=+0.06, y=0)\n",
    "s_channel.text(0.5, 0.08, \"$s$-channel\", fontsize=15)\n",
    "s_channel.text(0.5, 0, \"$s = (p_1 + p_2)^2 = (p_3 + p_4)^2$\", fontsize=12)\n",
    "s_channel.plot()\n",
    "\n",
    "t_channel = Diagram(ax[1])\n",
    "# Vertices\n",
    "v_p1 = t_channel.vertex(xy=(0.1, 0.7), marker=\"\")\n",
    "v_p2 = t_channel.vertex(v_p1.xy, dy=-0.6, marker=\"\")\n",
    "v_p3 = t_channel.vertex(v_p1.xy, dx=0.8, marker=\"\")\n",
    "v_p4 = t_channel.vertex(v_p3.xy, dy=-0.6, marker=\"\")\n",
    "v1 = t_channel.vertex(v_p1.xy, dx=0.4, dy=-0.15, marker=\"\")\n",
    "v2 = t_channel.vertex(v_p2.xy, dx=0.4, dy=+0.15, marker=\"\")\n",
    "# Lines\n",
    "p1 = t_channel.line(v_p1, v1, arrow=False)\n",
    "p2 = t_channel.line(v1, v_p3, arrow=False)\n",
    "interaction = t_channel.line(v1, v2, style=\"dotted\", arrow=False)\n",
    "e4 = t_channel.line(v2, v_p2, arrow=False)\n",
    "e5 = t_channel.line(v_p4, v2, arrow=False)\n",
    "# Labels\n",
    "v_p1.text(\"$p_1$\", x=-0.06, y=0)\n",
    "v_p2.text(\"$p_2$\", x=-0.06, y=0)\n",
    "v_p3.text(\"$p_3$\", x=+0.06, y=0)\n",
    "v_p4.text(\"$p_4$\", x=+0.06, y=0)\n",
    "t_channel.text(0.5, 0.08, \"$t$-channel\", fontsize=15)\n",
    "t_channel.text(0.5, 0, \"$t = (p_1 - p_3)^2 = (p_4 - p_2)^2$\", fontsize=12)\n",
    "t_channel.plot()\n",
    "\n",
    "u_channel = Diagram(ax[2])\n",
    "# Vertices\n",
    "v_p1 = u_channel.vertex(xy=(0.1, 0.7), marker=\"\")\n",
    "v_p2 = u_channel.vertex(v_p1.xy, dy=-0.6, marker=\"\")\n",
    "v_p3 = u_channel.vertex(v_p1.xy, dx=0.8, marker=\"\")\n",
    "v_p4 = u_channel.vertex(v_p3.xy, dy=-0.6, marker=\"\")\n",
    "v1 = u_channel.vertex(v_p1.xy, dx=0.4, dy=-0.15, marker=\"\")\n",
    "v2 = u_channel.vertex(v_p2.xy, dx=0.4, dy=+0.15, marker=\"\")\n",
    "# Lines\n",
    "p1 = u_channel.line(v_p1, v1, arrow=False)\n",
    "p2 = u_channel.line(v1, v_p4, arrow=False)\n",
    "interaction = u_channel.line(v1, v2, style=\"dotted\", arrow=False)\n",
    "e4 = u_channel.line(v2, v_p2, arrow=False)\n",
    "e5 = u_channel.line(v_p3, v2, arrow=False)\n",
    "# Labels\n",
    "v_p1.text(\"$p_1$\", x=-0.06, y=0)\n",
    "v_p2.text(\"$p_2$\", x=-0.06, y=0)\n",
    "v_p3.text(\"$p_3$\", x=+0.06, y=0)\n",
    "v_p4.text(\"$p_4$\", x=+0.06, y=0)\n",
    "u_channel.text(0.5, 0.08, \"$u$-channel\", fontsize=15)\n",
    "u_channel.text(0.5, 0, \"$u = (p_1 - p_4)^2 = (p_3 - p_2)^2$\", fontsize=12)\n",
    "u_channel.plot();"
   ]
  }
 ],
 "metadata": {
  "kernelspec": {
   "display_name": "Python 3 (ipykernel)",
   "language": "python",
   "name": "python3"
  },
  "language_info": {
   "codemirror_mode": {
    "name": "ipython",
    "version": 3
   },
   "file_extension": ".py",
   "mimetype": "text/x-python",
   "name": "python",
   "nbconvert_exporter": "python",
   "pygments_lexer": "ipython3",
   "version": "3.8.10"
  }
 },
 "nbformat": 4,
 "nbformat_minor": 4
}
