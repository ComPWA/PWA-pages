{
 "cells": [
  {
   "cell_type": "markdown",
   "metadata": {},
   "source": [
    "# Introduction"
   ]
  },
  {
   "cell_type": "markdown",
   "metadata": {},
   "source": [
    "```{warning}\n",
    "These pages and are **under development**.\n",
    "```"
   ]
  },
  {
   "cell_type": "markdown",
   "metadata": {},
   "source": [
    "While the {term}`Standard Model` provides an incredibly accurate description of\n",
    "the most fundamental constituents of matter, it remains difficult to describe\n",
    "interactions at the level of bound states ({term}`hadrons <hadron>`). This is\n",
    "because the fundamental force that dominates at this range―the\n",
    "{term}`strong force`—is characterized by an {term}`asymptotic freedom`: it has\n",
    "a strong coupling constant at low momentum transfer.\n",
    "\n",
    "One the one hand, this asymptotic behavior of the strong force forces\n",
    "{term}`quarks <quark>` to bound together in colorless groups\n",
    "({term}`color confinement`), giving particle physicists an amazingly varied\n",
    "spectrum of quark combinations to study. On the other, the asymptotic running\n",
    "of the coupling constant makes it almost impossible to predict from first\n",
    "principles how bound states of quarks interact at lower energies.\n",
    "\n",
    "Theoreticians have developed several descriptive models and numerical tools\n",
    "({term}`lattice QCD` most importantly), but these models often rest on several\n",
    "assumptions or fail to describe larger systems. It therefore remains important\n",
    "to study particle interactions at the lower energies.\n",
    "\n",
    "Partial Wave Analysis is a collection of techniques that allows us to perform\n",
    "these studies.\n",
    "\n",
    "- Importance of decomposing interactions\n",
    "- Strong QCD coupling constant at low momentum transfer\n",
    "- Cannot compute intermediate states from theory\n",
    "- Need to collect properties: mass, width, spin, parity"
   ]
  },
  {
   "cell_type": "markdown",
   "metadata": {},
   "source": [
    "## Scattering theory"
   ]
  },
  {
   "cell_type": "markdown",
   "metadata": {},
   "source": [
    "### Transition amplitude"
   ]
  },
  {
   "cell_type": "markdown",
   "metadata": {},
   "source": [
    "- Amplitudes and intensities\n",
    "- Scattering operator $S$ ({term}`S-matrix`)\n",
    "- Lead-up to $T$-matrix ({term}`transition operator`)\n",
    "- Distinction dynamical part and angular part"
   ]
  },
  {
   "cell_type": "markdown",
   "metadata": {},
   "source": [
    ":::{dropdown} The old text\n",
    "\n",
    "In general one is interested in gaining knowledge about the interaction of\n",
    "particles. Therefore, particle reaction experiments are performed to validate\n",
    "theoretical models and extract physical quantities and information (based on\n",
    "those models). To validate and extract information a comparison of the data\n",
    "from the experiment and the theoretical model is needed.\n",
    "\n",
    "The probability amplitude {cite}`weinbergQuantumTheoryFields1995`, p.113 of an\n",
    "initial state $Psi_i$ going to a final state $Psi_f$ is:\n",
    "\n",
    "```{math}\n",
    "\n",
    "S_{fi} = \\left< \\Psi_f \\middle| S \\middle| \\Psi_i \\right> = -2\\pi i\n",
    "\\delta^4(p_i - p_f)M_{fi}.\n",
    "\n",
    "```\n",
    "\n",
    "This is a general formula, so the particle content of the initial and final\n",
    "state is arbitrary.\n",
    "\n",
    "Experimental physicists measure transition rates or cross sections instead of\n",
    "the transition probability. There are two special cases of initial states,\n",
    "since many experimental measurements fall under these two categories:\n",
    "\n",
    "1. Single particles in the initial state ($N_I=1$)\n",
    "\n",
    "   This is a single particle decaying into the final state particles. Here the\n",
    "   decay rate {cite}`weinbergQuantumTheoryFields1995`, p.136 is\n",
    "\n",
    "   ```{math}\n",
    "\n",
    "   d\\Gamma(i \\rightarrow f) = 2\\pi |M_{fi}|^2 \\delta^4(p_f - p_i) d\\Phi_f\n",
    "\n",
    "   ```\n",
    "\n",
    "   $dPhi_f$ is the phase space element of the final state, which is needed to\n",
    "   make a comparison with data. More on this below.\n",
    "\n",
    "2. Two particles in the initial state ($N_I=2$)\n",
    "\n",
    "   The cross section of a two particle scattering/production process\n",
    "   {cite}`weinbergQuantumTheoryFields1995`, p.137 is\n",
    "\n",
    "   d\\sigma(i \\rightarrow f) = (2\\pi)^4 u*i^{-1} |M*{fi}|^2 \\delta^4(p_f - p_i)\n",
    "   d\\Phi_f with $u_i^{-1}$ the relative velocity of the initial state\n",
    "   particles.\n",
    "\n",
    "Describing multi body problems (more than 2) is a difficult task, since the\n",
    "interaction of more than two particles is difficult to describe\n",
    "{cite}`weinbergQuantumTheoryFields1995`, ch.4.\n",
    "\n",
    "One can resort to a simplification to treat a many body interaction by\n",
    "successive two body interactions. For N body particle decays (N > 2) this is\n",
    "known as the isobar model. Here a particle into N final state particles is\n",
    "modelled by a sequence of two particle decays. This is also also a assumption\n",
    "of the helicity/canonical formalism.\n",
    "\n",
    ":::"
   ]
  },
  {
   "cell_type": "markdown",
   "metadata": {},
   "source": [
    "### Partial waves"
   ]
  },
  {
   "cell_type": "markdown",
   "metadata": {},
   "source": [
    "Decomposition into partial waves {cite}`petersPrimerPartialWave2004`, p.3:\n",
    "\n",
    "> Consider an incident wave $\\left|i\\right> = Psi_i$. In an experimental\n",
    "> setting, we can assume a vanishing potential at $t\\rightarrow\\infty$, which\n",
    "> allows us to expand the incoming wave in terms of\n",
    "> {wiki}`Legendre_polynomials` $P_l$, with $l$ the\n",
    "> {dfn}`angular orbital momentum`:\n",
    ">\n",
    "> ```{math}\n",
    ">\n",
    "> \\Psi_i(r,\\theta) = \\sum_{l=0}^\\infty U_l(r) P_l(\\theta)\n",
    ">\n",
    "> ```\n",
    ">\n",
    "> The $U_l$ factor can be parametrized further. At this stage, it is important\n",
    "> to point that the angular orbital momentum of the incoming state is used to\n",
    "> characterize specific systems. Here, it is common to use the labels used for\n",
    "> [electron orbitals](https://scienceworld.wolfram.com/physics/ElectronOrbital.html):\n",
    ">\n",
    "> | $l$ | Label | Origin                 |\n",
    "> | --- | ----- | ---------------------- |\n",
    "> | 0   | s     | \"sharp\"                |\n",
    "> | 1   | p     | \"principal\"            |\n",
    "> | 2   | d     | \"diffuse\"              |\n",
    "> | 3   | f     | \"fundamental\"          |\n",
    "> | 4   | g     | _rest is alphabetical_ |\n",
    "> | ... | ...   | ...                    |\n",
    ">\n",
    "> In PWA, it is therefore common to distinguish these wave contributions as\n",
    "> $S$-wave, $P$-wave, etc.\n",
    "\n",
    "- Separating out angular and radial wave functions using Legendre polynomials\n",
    "- What we can see from this and how it relates to analysis techniques\n",
    "- (?) Difference with amplitude analysis\n",
    "- Possible initial states: 1, 2, and multi-body\n",
    "- Suitable for propagation, not re-scattering"
   ]
  },
  {
   "cell_type": "markdown",
   "metadata": {},
   "source": [
    "## Isobar model"
   ]
  }
 ],
 "metadata": {
  "kernelspec": {
   "display_name": "Python 3",
   "language": "python",
   "name": "python3"
  },
  "language_info": {
   "codemirror_mode": {
    "name": "ipython",
    "version": 3
   },
   "file_extension": ".py",
   "mimetype": "text/x-python",
   "name": "python",
   "nbconvert_exporter": "python",
   "pygments_lexer": "ipython3",
   "version": "3.8.8"
  }
 },
 "nbformat": 4,
 "nbformat_minor": 4
}
